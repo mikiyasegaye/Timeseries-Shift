{
  "cells": [
    {
      "cell_type": "markdown",
      "metadata": {},
      "source": [
        "# Task 1.4: Assumptions, Limitations, and Communication Strategy"
      ]
    },
    {
      "cell_type": "code",
      "execution_count": 10,
      "metadata": {},
      "outputs": [],
      "source": [
        "import pandas as pd\n",
        "import numpy as np\n",
        "import matplotlib.pyplot as plt\n",
        "import seaborn as sns\n",
        "import warnings\n",
        "warnings.filterwarnings('ignore')\n",
        "\n",
        "plt.style.use('seaborn-v0_8')\n",
        "sns.set_palette(\"husl\")\n",
        "plt.rcParams['figure.figsize'] = (12, 8)"
      ]
    },
    {
      "cell_type": "code",
      "execution_count": 11,
      "metadata": {},
      "outputs": [
        {
          "name": "stdout",
          "output_type": "stream",
          "text": [
            "Data period: 1987-05-20 to 2022-11-14\n",
            "Total observations: 9011\n",
            "Price range: $9.10 to $143.95\n"
          ]
        }
      ],
      "source": [
        "# Load data for reference\n",
        "df = pd.read_csv('../../data/raw/BrentOilPrices.csv')\n",
        "\n",
        "def parse_date(date_str):\n",
        "    try:\n",
        "        if '-' in date_str:\n",
        "            return pd.to_datetime(date_str, format='%d-%b-%y')\n",
        "        else:\n",
        "            return pd.to_datetime(date_str, format='%b %d, %Y')\n",
        "    except:\n",
        "        return pd.NaT\n",
        "\n",
        "df['Date'] = df['Date'].apply(parse_date)\n",
        "df = df.dropna(subset=['Date']).sort_values('Date').reset_index(drop=True)\n",
        "\n",
        "print(f\"Data period: {df['Date'].min().strftime('%Y-%m-%d')} to {df['Date'].max().strftime('%Y-%m-%d')}\")\n",
        "print(f\"Total observations: {len(df)}\")\n",
        "print(f\"Price range: ${df['Price'].min():.2f} to ${df['Price'].max():.2f}\")"
      ]
    },
    {
      "cell_type": "code",
      "execution_count": 12,
      "metadata": {},
      "outputs": [
        {
          "name": "stdout",
          "output_type": "stream",
          "text": [
            "Missing values - Date: 0, Price: 0\n",
            "Outliers: 0 (0.00%)\n",
            "Data completeness: 69.51%\n"
          ]
        }
      ],
      "source": [
        "# Data quality assessment\n",
        "missing_values = df.isnull().sum()\n",
        "print(f\"Missing values - Date: {missing_values['Date']}, Price: {missing_values['Price']}\")\n",
        "\n",
        "Q1 = df['Price'].quantile(0.25)\n",
        "Q3 = df['Price'].quantile(0.75)\n",
        "IQR = Q3 - Q1\n",
        "outliers = df[(df['Price'] < Q1 - 1.5*IQR) | (df['Price'] > Q3 + 1.5*IQR)]\n",
        "print(f\"Outliers: {len(outliers)} ({len(outliers)/len(df)*100:.2f}%)\")\n",
        "\n",
        "date_range = (df['Date'].max() - df['Date'].min()).days\n",
        "expected_observations = date_range + 1\n",
        "actual_observations = len(df)\n",
        "completeness = actual_observations / expected_observations * 100\n",
        "print(f\"Data completeness: {completeness:.2f}%\")"
      ]
    },
    {
      "cell_type": "code",
      "execution_count": 13,
      "metadata": {},
      "outputs": [
        {
          "name": "stdout",
          "output_type": "stream",
          "text": [
            "Correlation Analysis:\n",
            "Asian Crisis (1998): Price range $9.10 - $14.84\n",
            "Financial Crisis (2008): Price range $33.73 - $143.95\n",
            "COVID-19 (2020): Price range $9.12 - $52.52\n"
          ]
        }
      ],
      "source": [
        "# Correlation vs causation analysis\n",
        "events_data = {\n",
        "    'Asian Crisis (1998)': ('1998-06-01', '1998-12-31'),\n",
        "    'Financial Crisis (2008)': ('2008-06-01', '2009-03-31'),\n",
        "    'COVID-19 (2020)': ('2020-03-01', '2020-05-31')\n",
        "}\n",
        "\n",
        "print(\"Correlation Analysis:\")\n",
        "for period_name, (start_date, end_date) in events_data.items():\n",
        "    period_data = df[(df['Date'] >= start_date) & (df['Date'] <= end_date)]\n",
        "    if len(period_data) > 0:\n",
        "        print(f\"{period_name}: Price range ${period_data['Price'].min():.2f} - ${period_data['Price'].max():.2f}\")"
      ]
    },
    {
      "cell_type": "code",
      "execution_count": 14,
      "metadata": {},
      "outputs": [
        {
          "name": "stdout",
          "output_type": "stream",
          "text": [
            "Stakeholder Communication Matrix:\n",
            "\n",
            "Investors:\n",
            "  Needs: Risk assessment, Portfolio optimization, Timing decisions\n",
            "  Channels: Interactive dashboard, Executive reports, Webinars\n",
            "  Frequency: Real-time/Weekly\n",
            "\n",
            "Policymakers:\n",
            "  Needs: Economic stability, Energy security, Policy effectiveness\n",
            "  Channels: Policy briefs, Government reports, Expert consultations\n",
            "  Frequency: Monthly/Quarterly\n",
            "\n",
            "Energy Companies:\n",
            "  Needs: Supply chain planning, Cost management, Operational decisions\n",
            "  Channels: Corporate dashboards, Strategic reports, Consulting services\n",
            "  Frequency: Weekly/Monthly\n",
            "\n",
            "Analysts:\n",
            "  Needs: Deep analysis, Methodology details, Statistical validation\n",
            "  Channels: Technical reports, Academic papers, Conference presentations\n",
            "  Frequency: As needed\n"
          ]
        }
      ],
      "source": [
        "# Stakeholder communication matrix\n",
        "stakeholders = {\n",
        "    'Investors': {\n",
        "        'needs': ['Risk assessment', 'Portfolio optimization', 'Timing decisions'],\n",
        "        'channels': ['Interactive dashboard', 'Executive reports', 'Webinars'],\n",
        "        'frequency': 'Real-time/Weekly'\n",
        "    },\n",
        "    'Policymakers': {\n",
        "        'needs': ['Economic stability', 'Energy security', 'Policy effectiveness'],\n",
        "        'channels': ['Policy briefs', 'Government reports', 'Expert consultations'],\n",
        "        'frequency': 'Monthly/Quarterly'\n",
        "    },\n",
        "    'Energy Companies': {\n",
        "        'needs': ['Supply chain planning', 'Cost management', 'Operational decisions'],\n",
        "        'channels': ['Corporate dashboards', 'Strategic reports', 'Consulting services'],\n",
        "        'frequency': 'Weekly/Monthly'\n",
        "    },\n",
        "    'Analysts': {\n",
        "        'needs': ['Deep analysis', 'Methodology details', 'Statistical validation'],\n",
        "        'channels': ['Technical reports', 'Academic papers', 'Conference presentations'],\n",
        "        'frequency': 'As needed'\n",
        "    }\n",
        "}\n",
        "\n",
        "print(\"Stakeholder Communication Matrix:\")\n",
        "for stakeholder, details in stakeholders.items():\n",
        "    print(f\"\\n{stakeholder}:\")\n",
        "    print(f\"  Needs: {', '.join(details['needs'])}\")\n",
        "    print(f\"  Channels: {', '.join(details['channels'])}\")\n",
        "    print(f\"  Frequency: {details['frequency']}\")"
      ]
    },
    {
      "cell_type": "code",
      "execution_count": 15,
      "metadata": {},
      "outputs": [
        {
          "name": "stdout",
          "output_type": "stream",
          "text": [
            "Risk Mitigation Strategies:\n",
            "1. Data Quality: Multiple data source validation, robust cleaning procedures\n",
            "2. Modeling: Model validation, sensitivity analysis, cross-validation\n",
            "3. Interpretation: Clear correlation vs. causation disclaimers\n",
            "4. Communication: Tailored messaging, regular updates, expert review\n",
            "\n",
            "Key Limitations:\n",
            "1. Cannot prove causation, only correlation\n",
            "2. Limited to single price series\n",
            "3. Model complexity and computational costs\n",
            "4. Future applicability uncertain\n",
            "5. Many unobserved variables\n"
          ]
        }
      ],
      "source": [
        "# Risk mitigation strategies\n",
        "print(\"Risk Mitigation Strategies:\")\n",
        "print(\"1. Data Quality: Multiple data source validation, robust cleaning procedures\")\n",
        "print(\"2. Modeling: Model validation, sensitivity analysis, cross-validation\")\n",
        "print(\"3. Interpretation: Clear correlation vs. causation disclaimers\")\n",
        "print(\"4. Communication: Tailored messaging, regular updates, expert review\")\n",
        "\n",
        "print(\"\\nKey Limitations:\")\n",
        "print(\"1. Cannot prove causation, only correlation\")\n",
        "print(\"2. Limited to single price series\")\n",
        "print(\"3. Model complexity and computational costs\")\n",
        "print(\"4. Future applicability uncertain\")\n",
        "print(\"5. Many unobserved variables\")"
      ]
    }
  ],
  "metadata": {
    "kernelspec": {
      "display_name": "Python 3",
      "language": "python",
      "name": "python3"
    },
    "language_info": {
      "codemirror_mode": {
        "name": "ipython",
        "version": 3
      },
      "file_extension": ".py",
      "mimetype": "text/x-python",
      "name": "python",
      "nbconvert_exporter": "python",
      "pygments_lexer": "ipython3",
      "version": "3.8.5"
    }
  },
  "nbformat": 4,
  "nbformat_minor": 4
}
